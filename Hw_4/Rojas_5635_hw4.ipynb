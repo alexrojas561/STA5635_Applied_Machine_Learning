{
 "cells": [
  {
   "cell_type": "code",
   "execution_count": 1,
   "metadata": {},
   "outputs": [],
   "source": [
    "# Initialize modules\n",
    "import pandas as pd\n",
    "import numpy as np\n",
    "from matplotlib import pyplot as plt\n",
    "from sklearn.preprocessing import StandardScaler\n",
    "from sklearn.metrics import accuracy_score"
   ]
  },
  {
   "cell_type": "code",
   "execution_count": 923,
   "metadata": {},
   "outputs": [],
   "source": [
    "# Create TISP Algorithm\n",
    "''' \n",
    "Things I want to add:\n",
    "    - Self-optimizing + efficient lambda -> cannot be 10x longer then as it is\n",
    "    - Clean fit as to not contain the data --> separate the predicting and error from it\n",
    "\n",
    "'''\n",
    "\n",
    "class TISP:\n",
    "    def __init__(self, lambdas, iterations = 100):\n",
    "        \n",
    "        # Initialize parameters \n",
    "        self.iterations = iterations\n",
    "        self.lambdas = lambdas\n",
    "        \n",
    "        self.train_errors_all = []\n",
    "        self.test_errors_all = []\n",
    "        self.train_errors_final = []\n",
    "        self.test_errors_final = []\n",
    "        \n",
    "        \n",
    "        self.likelihoods_all = []\n",
    "        \n",
    "        self.num_features = [] \n",
    "        \n",
    "        \n",
    "    def sigmoid(self, z):\n",
    "        \n",
    "        # Set up sigmoid \n",
    "        sig_z = (1/(1+np.exp(-z)))\n",
    "        \n",
    "        assert (sig_z.shape == z.shape)\n",
    "        return sig_z\n",
    "        \n",
    "        \n",
    "        \n",
    "    def log_likelihood(self, Xw, y):\n",
    "        ''' \n",
    "        Where: wX is the dot product of the regressor matrix + parameters\n",
    "               y is the data transformed to -> {0, 1}\n",
    "               y_ are the true labels of X in space -> {-1, +1}\n",
    "               \n",
    "               \n",
    "        Loss function uses [-1, 1] labels\n",
    "        '''\n",
    "        \n",
    "        likelihood = (1/Xw.shape[0])*sum(np.log(1 + np.exp(-y*Xw))) \n",
    "        \n",
    "        return likelihood\n",
    "    \n",
    "                \n",
    "                \n",
    "    def feature_count(self):\n",
    "                            \n",
    "        ind = self.weights[self.weights != 0]\n",
    "        num = ind.shape[0]\n",
    "\n",
    "        return num\n",
    "\n",
    "                \n",
    "                \n",
    "    def fit(self, X, y, X_test, y_test):\n",
    "        '''\n",
    "        Where X is the regressor matrix\n",
    "              y are the labels {-1, +1}\n",
    "              y_true are the test labels {-1, +1}\n",
    "              \n",
    "        Algorithm uses [0, 1] labels\n",
    "        '''\n",
    "        num_obs = X.shape[0]\n",
    "        num_feat = X.shape[1]\n",
    "        \n",
    "        \n",
    "        # Transform y to be {0, 1}\n",
    "        y_ = np.where(y == -1, 0, y)\n",
    "\n",
    "        \n",
    "        for j in range(len(self.lambdas)):\n",
    "            # Loop for lambdas\n",
    "            \n",
    "            # Reset likelihoods\n",
    "            self.likelihoods = []\n",
    "        \n",
    "            # Reset train and test error variables for each lambda\n",
    "            train_errors = []\n",
    "            test_errors = []\n",
    "            \n",
    "            # Start w/ zero weights\n",
    "            self.weights = np.zeros(num_feat)\n",
    "        \n",
    "            \n",
    "            for i in range(self.iterations):\n",
    "                # Loop for iterations\n",
    "                \n",
    "                Xw = np.dot(X, self.weights)\n",
    "                sig_Xw = self.sigmoid(Xw)\n",
    "                \n",
    "                gradient = np.dot(X.T, y_ - sig_Xw)\n",
    "\n",
    "                # Calculate weights\n",
    "                self.weights += (1/num_obs)*gradient\n",
    "                self.weights[np.absolute(self.weights) <= self.lambdas[j]] = 0\n",
    "\n",
    "\n",
    "                # Calculating log likelihood\n",
    "                likelihood = self.log_likelihood(Xw,y)\n",
    "                self.likelihoods.append(likelihood)\n",
    "\n",
    "\n",
    "                # Calculate errors per iteration\n",
    "                train_error = self.misclass_error(y_, X)\n",
    "                train_errors.append(train_error)\n",
    "\n",
    "                test_error = self.misclass_error(y_test, X_test)\n",
    "                test_errors.append(test_error)\n",
    "            \n",
    "            self.likelihoods_all.append(self.likelihoods)\n",
    "            \n",
    "            self.train_errors_all.append(train_errors)\n",
    "            self.test_errors_all.append(test_errors)\n",
    "            \n",
    "            self.train_errors_final.append(train_errors[-1])\n",
    "            self.test_errors_final.append(test_errors[-1])\n",
    "            \n",
    "            self.num_features.append(self.feature_count())\n",
    "                     \n",
    "            \n",
    "    def predict_proba(self,X):\n",
    "    \n",
    "        if self.weights is None:\n",
    "            raise Exception(\"Fit the model before prediction\")\n",
    "                     \n",
    "        z = np.dot(X,self.weights)\n",
    "        probabilities = self.sigmoid(z)\n",
    "                \n",
    "        return probabilities\n",
    "    \n",
    "    \n",
    "    def predict(self, X, threshold=0.5):\n",
    "        # Thresholding probability to predict binary values\n",
    "        binary_predictions = np.array(list(map(lambda x: 1 if x>threshold else -1, self.predict_proba(X))))\n",
    "        \n",
    "        return binary_predictions\n",
    "    \n",
    "    def misclass_error(self,y_true, X):\n",
    "        # Calculate errors for hw\n",
    "        preds = self.predict(X)\n",
    "        error = 1 - accuracy_score(y_true, preds)        \n",
    "        \n",
    "        return error\n",
    "        \n",
    "        \n",
    "        \n",
    "        "
   ]
  },
  {
   "cell_type": "markdown",
   "metadata": {},
   "source": [
    "## Problem 1.a:"
   ]
  },
  {
   "cell_type": "code",
   "execution_count": 3,
   "metadata": {},
   "outputs": [],
   "source": [
    "# Data input\n",
    "X_train_a = pd.read_csv('data/Gisette/gisette_train.data', sep='\\s+', header=None)\n",
    "y_train_a = pd.read_csv('data/Gisette/gisette_train.labels', header=None)\n",
    "\n",
    "X_test_a = pd.read_csv('data/Gisette/gisette_valid.data',  sep='\\s+', header=None)\n",
    "y_test_a = pd.read_csv('data/Gisette/gisette_valid.labels', header=None)\n",
    "\n",
    "# Prepare data for matrix algebra\n",
    "y_train_a = y_train_a.values.ravel()\n",
    "y_test_a = y_test_a.values.ravel()"
   ]
  },
  {
   "cell_type": "code",
   "execution_count": 4,
   "metadata": {},
   "outputs": [
    {
     "data": {
      "text/plain": [
       "StandardScaler()"
      ]
     },
     "execution_count": 4,
     "metadata": {},
     "output_type": "execute_result"
    }
   ],
   "source": [
    "# Normalize the variables of the training set\n",
    "scaler_a = StandardScaler()\n",
    "scaler_a.fit(X_train_a)"
   ]
  },
  {
   "cell_type": "code",
   "execution_count": 5,
   "metadata": {},
   "outputs": [],
   "source": [
    "# Transform both the train and test set\n",
    "X_train_scaled_a = scaler_a.transform(X_train_a)\n",
    "X_test_scaled_a = scaler_a.transform(X_test_a)"
   ]
  },
  {
   "cell_type": "code",
   "execution_count": 924,
   "metadata": {
    "scrolled": false
   },
   "outputs": [],
   "source": [
    "# Initialize TISP model and fit to data\n",
    "'''\n",
    "Manually captured lambdas:\n",
    "\n",
    "(Feature, Lambda) = (1001, 0.018), (300, 0.0529), \n",
    "                    (101, 0.0875), (30, 0.133), (10, 0.19)\n",
    "                    \n",
    "'''\n",
    "\n",
    "lambdas_a = [0.018, 0.0529, 0.0875, 0.133, 0.19]\n",
    "lambdas_a.reverse()\n",
    "\n",
    "model_a = TISP(lambdas = lambdas_a)\n",
    "model_a.fit(X_train_scaled_a, y_train_a, X_test_scaled_a, y_test_a)"
   ]
  },
  {
   "cell_type": "markdown",
   "metadata": {},
   "source": [
    "### Output 1:\n",
    "Plot the train misclassification error vs iteration number when selecting 300 features"
   ]
  },
  {
   "cell_type": "code",
   "execution_count": 926,
   "metadata": {
    "scrolled": false
   },
   "outputs": [
    {
     "data": {
      "image/png": "[encoded data removed]",
      "text/plain": [
       "<Figure size 432x288 with 1 Axes>"
      ]
     },
     "metadata": {
      "needs_background": "light"
     },
     "output_type": "display_data"
    }
   ],
   "source": [
    "# Plot the train misclassifcation error vs iteration number when selecting 300 features\n",
    "plt.plot([i+1 for i in range(len(model_a.train_errors_all[1]))], model_a.train_errors_all[1])\n",
    "plt.plot([i+1 for i in range(len(model_a.test_errors_all[1]))], model_a.test_errors_all[1])\n",
    "plt.title(\"Train Error curve\")\n",
    "plt.xlabel(\"Iteration num\")\n",
    "plt.ylabel(\"Misclassification Error\")\n",
    "plt.show()"
   ]
  },
  {
   "cell_type": "markdown",
   "metadata": {},
   "source": [
    "### Output 2:\n",
    "Plot the final train and test misclassification error vs the number of selected features"
   ]
  },
  {
   "cell_type": "code",
   "execution_count": 927,
   "metadata": {
    "scrolled": true
   },
   "outputs": [
    {
     "data": {
      "image/png": "[encoded data removed]",
      "text/plain": [
       "<Figure size 432x288 with 1 Axes>"
      ]
     },
     "metadata": {
      "needs_background": "light"
     },
     "output_type": "display_data"
    }
   ],
   "source": [
    "# Plot the train and test misclassifcation error vs number of selected features\n",
    "plt.plot(model_a.num_features, model_a.train_errors_final)\n",
    "plt.plot(model_a.num_features, model_a.test_errors_final)\n",
    "\n",
    "\n",
    "plt.title(\"Train and Test Error curve\")\n",
    "plt.xlabel(\"Number of features selected\")\n",
    "plt.ylabel(\"Misclassification Error\")\n",
    "plt.legend(['Train Errors', 'Test Errors'])\n",
    "plt.show()"
   ]
  },
  {
   "cell_type": "markdown",
   "metadata": {},
   "source": [
    "### Output 3:\n",
    "Report in a table:\n",
    "- The misclassification errors on the training and test set\n",
    "- The correspoing numbers of selected features \n",
    "- The values of $\\lambda$"
   ]
  },
  {
   "cell_type": "code",
   "execution_count": 895,
   "metadata": {
    "scrolled": false
   },
   "outputs": [
    {
     "data": {
      "text/html": [
       "<div>\n",
       "<style scoped>\n",
       "    .dataframe tbody tr th:only-of-type {\n",
       "        vertical-align: middle;\n",
       "    }\n",
       "\n",
       "    .dataframe tbody tr th {\n",
       "        vertical-align: top;\n",
       "    }\n",
       "\n",
       "    .dataframe thead th {\n",
       "        text-align: right;\n",
       "    }\n",
       "</style>\n",
       "<table border=\"1\" class=\"dataframe\">\n",
       "  <thead>\n",
       "    <tr style=\"text-align: right;\">\n",
       "      <th></th>\n",
       "      <th>Train Error</th>\n",
       "      <th>Test Error</th>\n",
       "      <th>Number of Features</th>\n",
       "      <th>Lambda</th>\n",
       "    </tr>\n",
       "  </thead>\n",
       "  <tbody>\n",
       "    <tr>\n",
       "      <th>0</th>\n",
       "      <td>0.121333</td>\n",
       "      <td>0.123</td>\n",
       "      <td>10</td>\n",
       "      <td>0.1900</td>\n",
       "    </tr>\n",
       "    <tr>\n",
       "      <th>1</th>\n",
       "      <td>0.071333</td>\n",
       "      <td>0.078</td>\n",
       "      <td>30</td>\n",
       "      <td>0.1330</td>\n",
       "    </tr>\n",
       "    <tr>\n",
       "      <th>2</th>\n",
       "      <td>0.031833</td>\n",
       "      <td>0.035</td>\n",
       "      <td>101</td>\n",
       "      <td>0.0875</td>\n",
       "    </tr>\n",
       "    <tr>\n",
       "      <th>3</th>\n",
       "      <td>0.012167</td>\n",
       "      <td>0.016</td>\n",
       "      <td>300</td>\n",
       "      <td>0.0529</td>\n",
       "    </tr>\n",
       "    <tr>\n",
       "      <th>4</th>\n",
       "      <td>0.003500</td>\n",
       "      <td>0.018</td>\n",
       "      <td>1001</td>\n",
       "      <td>0.0180</td>\n",
       "    </tr>\n",
       "  </tbody>\n",
       "</table>\n",
       "</div>"
      ],
      "text/plain": [
       "   Train Error  Test Error  Number of Features  Lambda\n",
       "0     0.121333       0.123                  10  0.1900\n",
       "1     0.071333       0.078                  30  0.1330\n",
       "2     0.031833       0.035                 101  0.0875\n",
       "3     0.012167       0.016                 300  0.0529\n",
       "4     0.003500       0.018                1001  0.0180"
      ]
     },
     "execution_count": 895,
     "metadata": {},
     "output_type": "execute_result"
    }
   ],
   "source": [
    "info_a = {\"Train Error\": model_a.train_errors_final, \n",
    "          \"Test Error\": model_a.test_errors_final,\n",
    "          \"Number of Features\": model_a.num_features, \n",
    "          \"Lambda\": model_a.lambdas}\n",
    "\n",
    "df_a = pd.DataFrame(info_a)\n",
    "df_a"
   ]
  },
  {
   "cell_type": "markdown",
   "metadata": {},
   "source": [
    "## Problem 1.b:"
   ]
  },
  {
   "cell_type": "code",
   "execution_count": 867,
   "metadata": {},
   "outputs": [],
   "source": [
    "# Data input\n",
    "X_train_b = pd.read_csv('data/dexter/dexter_train.csv', sep=',', header=None, nrows=300)\n",
    "y_train_b = pd.read_csv('data/dexter/dexter_train.labels', header=None, nrows=300)\n",
    "\n",
    "X_test_b = pd.read_csv('data/dexter/dexter_valid.csv', sep=',', header=None, nrows=300)\n",
    "y_test_b = pd.read_csv('data/dexter/dexter_valid.labels', header=None, nrows=300)\n",
    "\n",
    "# Prepare data for matrix algebra\n",
    "y_train_b = y_train_b.values.ravel()\n",
    "y_test_b = y_test_b.values.ravel()"
   ]
  },
  {
   "cell_type": "code",
   "execution_count": 868,
   "metadata": {},
   "outputs": [
    {
     "data": {
      "text/plain": [
       "StandardScaler()"
      ]
     },
     "execution_count": 868,
     "metadata": {},
     "output_type": "execute_result"
    }
   ],
   "source": [
    "# Normalize the variables of the training set\n",
    "scaler_b = StandardScaler()\n",
    "scaler_b.fit(X_train_b)"
   ]
  },
  {
   "cell_type": "code",
   "execution_count": 869,
   "metadata": {},
   "outputs": [],
   "source": [
    "# Transform both the train and test set\n",
    "X_train_scaled_b = scaler_b.transform(X_train_b)\n",
    "X_test_scaled_b = scaler_b.transform(X_test_b)"
   ]
  },
  {
   "cell_type": "code",
   "execution_count": 909,
   "metadata": {},
   "outputs": [],
   "source": [
    "# Initialize TISP model and fit to data\n",
    "'''\n",
    "Manually captured lambdas:\n",
    "\n",
    "(Feature, Lambda) = (1000, 0.03993), (299, 0.05227), \n",
    "                    (100, 0.07112), (30, 0.098), (11, 0.1427)\n",
    "                    \n",
    "'''\n",
    "lambdas_b = [0.03993, 0.05227,0.07112, 0.098, 0.1427]\n",
    "lambdas_b.reverse()\n",
    "\n",
    "model_b = TISP(lambdas = lambdas_b)\n",
    "model_b.fit(X_train_scaled_b, y_train_b, X_test_scaled_b, y_test_b)"
   ]
  },
  {
   "cell_type": "markdown",
   "metadata": {},
   "source": [
    "### Output 1:\n",
    "Plot the train misclassification error vs iteration number when selecting 300 features"
   ]
  },
  {
   "cell_type": "code",
   "execution_count": 871,
   "metadata": {},
   "outputs": [
    {
     "data": {
      "image/png": "[encoded data removed]",
      "text/plain": [
       "<Figure size 432x288 with 1 Axes>"
      ]
     },
     "metadata": {
      "needs_background": "light"
     },
     "output_type": "display_data"
    }
   ],
   "source": [
    "# Plot the train misclassifcation error vs iteration number when selecting 300 features\n",
    "plt.plot([i+1 for i in range(len(model_b.train_errors_all[1]))], model_b.train_errors_all[1])\n",
    "#plt.plot([i+1 for i in range(len(model_b.test_errors_all[1]))], model_b.test_errors_all[1])\n",
    "plt.title(\"Train Error curve\")\n",
    "plt.xlabel(\"Iteration num\")\n",
    "plt.ylabel(\"Misclassification Error\")\n",
    "plt.show()"
   ]
  },
  {
   "cell_type": "markdown",
   "metadata": {},
   "source": [
    "### Output 2:\n",
    "Plot the final train and test misclassification error vs the number of selected features"
   ]
  },
  {
   "cell_type": "code",
   "execution_count": 872,
   "metadata": {},
   "outputs": [
    {
     "data": {
      "image/png": "[encoded data removed]",
      "text/plain": [
       "<Figure size 432x288 with 1 Axes>"
      ]
     },
     "metadata": {
      "needs_background": "light"
     },
     "output_type": "display_data"
    }
   ],
   "source": [
    "# Plot the train and test misclassifcation error vs number of selected features\n",
    "plt.plot(model_b.num_features, model_b.train_errors_final)\n",
    "plt.plot(model_b.num_features, model_b.test_errors_final)\n",
    "\n",
    "\n",
    "plt.title(\"Train and Test Error curve\")\n",
    "plt.xlabel(\"Number of features selected\")\n",
    "plt.ylabel(\"Misclassification Error\")\n",
    "plt.legend(['Train Errors', 'Test Errors'])\n",
    "plt.show()"
   ]
  },
  {
   "cell_type": "markdown",
   "metadata": {},
   "source": [
    "### Output 3:\n",
    "Report in a table:\n",
    "- The misclassification errors on the training and test set\n",
    "- The correspoing numbers of selected features \n",
    "- The values of $\\lambda$"
   ]
  },
  {
   "cell_type": "code",
   "execution_count": 897,
   "metadata": {},
   "outputs": [
    {
     "data": {
      "text/html": [
       "<div>\n",
       "<style scoped>\n",
       "    .dataframe tbody tr th:only-of-type {\n",
       "        vertical-align: middle;\n",
       "    }\n",
       "\n",
       "    .dataframe tbody tr th {\n",
       "        vertical-align: top;\n",
       "    }\n",
       "\n",
       "    .dataframe thead th {\n",
       "        text-align: right;\n",
       "    }\n",
       "</style>\n",
       "<table border=\"1\" class=\"dataframe\">\n",
       "  <thead>\n",
       "    <tr style=\"text-align: right;\">\n",
       "      <th></th>\n",
       "      <th>Train Error</th>\n",
       "      <th>Test Error</th>\n",
       "      <th>Number of Features</th>\n",
       "      <th>Lambda</th>\n",
       "    </tr>\n",
       "  </thead>\n",
       "  <tbody>\n",
       "    <tr>\n",
       "      <th>0</th>\n",
       "      <td>0.120000</td>\n",
       "      <td>0.170000</td>\n",
       "      <td>11</td>\n",
       "      <td>0.14270</td>\n",
       "    </tr>\n",
       "    <tr>\n",
       "      <th>1</th>\n",
       "      <td>0.050000</td>\n",
       "      <td>0.106667</td>\n",
       "      <td>30</td>\n",
       "      <td>0.09800</td>\n",
       "    </tr>\n",
       "    <tr>\n",
       "      <th>2</th>\n",
       "      <td>0.016667</td>\n",
       "      <td>0.083333</td>\n",
       "      <td>100</td>\n",
       "      <td>0.07112</td>\n",
       "    </tr>\n",
       "    <tr>\n",
       "      <th>3</th>\n",
       "      <td>0.000000</td>\n",
       "      <td>0.060000</td>\n",
       "      <td>299</td>\n",
       "      <td>0.05227</td>\n",
       "    </tr>\n",
       "    <tr>\n",
       "      <th>4</th>\n",
       "      <td>0.000000</td>\n",
       "      <td>0.090000</td>\n",
       "      <td>1000</td>\n",
       "      <td>0.03993</td>\n",
       "    </tr>\n",
       "  </tbody>\n",
       "</table>\n",
       "</div>"
      ],
      "text/plain": [
       "   Train Error  Test Error  Number of Features   Lambda\n",
       "0     0.120000    0.170000                  11  0.14270\n",
       "1     0.050000    0.106667                  30  0.09800\n",
       "2     0.016667    0.083333                 100  0.07112\n",
       "3     0.000000    0.060000                 299  0.05227\n",
       "4     0.000000    0.090000                1000  0.03993"
      ]
     },
     "execution_count": 897,
     "metadata": {},
     "output_type": "execute_result"
    }
   ],
   "source": [
    "info_b = {\"Train Error\": model_b.train_errors_final, \n",
    "          \"Test Error\": model_b.test_errors_final,\n",
    "          \"Number of Features\": model_b.num_features, \n",
    "          \"Lambda\": model_b.lambdas}\n",
    "\n",
    "df_b = pd.DataFrame(info_b)\n",
    "df_b"
   ]
  },
  {
   "cell_type": "markdown",
   "metadata": {},
   "source": [
    "## Problem 1.c:"
   ]
  },
  {
   "cell_type": "code",
   "execution_count": 874,
   "metadata": {},
   "outputs": [],
   "source": [
    "# Madelon data input\n",
    "X_train_c = pd.read_csv(\"data/MADELON/madelon_train.data\", sep='\\s+', header=None)\n",
    "y_train_c = pd.read_csv(\"data/MADELON/madelon_train.labels\", sep=' ', header=None)\n",
    "\n",
    "X_test_c = pd.read_csv(\"data/MADELON/madelon_valid.data\", sep='\\s+', header=None)\n",
    "y_test_c = pd.read_csv(\"data/MADELON/madelon_valid.labels\", sep=' ', header=None)\n",
    "\n",
    "# Prepare data for matrix algebra\n",
    "y_train_c = y_train_c.values.ravel()\n",
    "y_test_c = y_test_c.values.ravel()"
   ]
  },
  {
   "cell_type": "code",
   "execution_count": 875,
   "metadata": {},
   "outputs": [
    {
     "data": {
      "text/plain": [
       "StandardScaler()"
      ]
     },
     "execution_count": 875,
     "metadata": {},
     "output_type": "execute_result"
    }
   ],
   "source": [
    "# Normalize the variables of the training set\n",
    "scaler_c = StandardScaler()\n",
    "scaler_c.fit(X_train_c)"
   ]
  },
  {
   "cell_type": "code",
   "execution_count": 876,
   "metadata": {},
   "outputs": [],
   "source": [
    "# Transform both the train and test set\n",
    "X_train_scaled_c = scaler_c.transform(X_train_c)\n",
    "X_test_scaled_c = scaler_c.transform(X_test_c)"
   ]
  },
  {
   "cell_type": "code",
   "execution_count": 910,
   "metadata": {},
   "outputs": [],
   "source": [
    "# Initialize TISP model and fit to data\n",
    "'''\n",
    "Manually captured lambdas:\n",
    "\n",
    "(Feature, Lambda) = (500, 0.000042), (302, 0.00737), \n",
    "                    (100, 0.0173), (30, 0.02435), (8, 0.0298)\n",
    "                    \n",
    "'''\n",
    "#lambdas_c = [0.0298]\n",
    "\n",
    "lambdas_c = [0.000042, 0.00737, 0.0173, 0.02435, 0.0298]\n",
    "lambdas_c.reverse()\n",
    "\n",
    "model_c = TISP(lambdas = lambdas_c)\n",
    "model_c.fit(X_train_scaled_c, y_train_c, X_test_scaled_c, y_test_c)"
   ]
  },
  {
   "cell_type": "markdown",
   "metadata": {},
   "source": [
    "### Output 1:\n",
    "Plot the train misclassification error vs iteration number when selecting 300 features"
   ]
  },
  {
   "cell_type": "code",
   "execution_count": 880,
   "metadata": {},
   "outputs": [
    {
     "data": {
      "image/png": "[encoded data removed]",
      "text/plain": [
       "<Figure size 432x288 with 1 Axes>"
      ]
     },
     "metadata": {
      "needs_background": "light"
     },
     "output_type": "display_data"
    }
   ],
   "source": [
    "# Plot the train misclassifcation error vs iteration number when selecting 300 features\n",
    "plt.plot([i+1 for i in range(len(model_c.train_errors_all[1]))], model_c.train_errors_all[1])\n",
    "#plt.plot([i+1 for i in range(len(model_c.test_errors_all[1]))], model_c.test_errors_all[1])\n",
    "plt.title(\"Train Error curve\")\n",
    "plt.xlabel(\"Iteration num\")\n",
    "plt.ylabel(\"Misclassification Error\")\n",
    "plt.show()"
   ]
  },
  {
   "cell_type": "markdown",
   "metadata": {},
   "source": [
    "### Output 2:\n",
    "Plot the final train and test misclassification error vs the number of selected features"
   ]
  },
  {
   "cell_type": "code",
   "execution_count": 881,
   "metadata": {},
   "outputs": [
    {
     "name": "stdout",
     "output_type": "stream",
     "text": [
      "[8, 30, 100, 302, 500] [0.386, 0.357, 0.32799999999999996, 0.27149999999999996, 0.25849999999999995]\n"
     ]
    }
   ],
   "source": [
    "print(model_c.num_features, model_c.train_errors_final)"
   ]
  },
  {
   "cell_type": "code",
   "execution_count": 882,
   "metadata": {},
   "outputs": [
    {
     "data": {
      "image/png": "[encoded data removed]",
      "text/plain": [
       "<Figure size 432x288 with 1 Axes>"
      ]
     },
     "metadata": {
      "needs_background": "light"
     },
     "output_type": "display_data"
    }
   ],
   "source": [
    "# Plot the train and test misclassifcation error vs number of selected features\n",
    "plt.plot(model_c.num_features, model_c.train_errors_final)\n",
    "plt.plot(model_c.num_features, model_c.test_errors_final)\n",
    "\n",
    "\n",
    "plt.title(\"Train and Test Error curve\")\n",
    "plt.xlabel(\"Number of features selected\")\n",
    "plt.ylabel(\"Misclassification Error\")\n",
    "plt.legend(['Train Errors', 'Test Errors'])\n",
    "plt.show()"
   ]
  },
  {
   "cell_type": "markdown",
   "metadata": {},
   "source": [
    "### Output 3:\n",
    "Report in a table:\n",
    "- The misclassification errors on the training and test set\n",
    "- The correspoing numbers of selected features \n",
    "- The values of $\\lambda$"
   ]
  },
  {
   "cell_type": "code",
   "execution_count": 898,
   "metadata": {},
   "outputs": [
    {
     "data": {
      "text/html": [
       "<div>\n",
       "<style scoped>\n",
       "    .dataframe tbody tr th:only-of-type {\n",
       "        vertical-align: middle;\n",
       "    }\n",
       "\n",
       "    .dataframe tbody tr th {\n",
       "        vertical-align: top;\n",
       "    }\n",
       "\n",
       "    .dataframe thead th {\n",
       "        text-align: right;\n",
       "    }\n",
       "</style>\n",
       "<table border=\"1\" class=\"dataframe\">\n",
       "  <thead>\n",
       "    <tr style=\"text-align: right;\">\n",
       "      <th></th>\n",
       "      <th>Train Error</th>\n",
       "      <th>Test Error</th>\n",
       "      <th>Number of Features</th>\n",
       "      <th>Lambda</th>\n",
       "    </tr>\n",
       "  </thead>\n",
       "  <tbody>\n",
       "    <tr>\n",
       "      <th>0</th>\n",
       "      <td>0.3860</td>\n",
       "      <td>0.395000</td>\n",
       "      <td>8</td>\n",
       "      <td>0.029800</td>\n",
       "    </tr>\n",
       "    <tr>\n",
       "      <th>1</th>\n",
       "      <td>0.3570</td>\n",
       "      <td>0.428333</td>\n",
       "      <td>30</td>\n",
       "      <td>0.024350</td>\n",
       "    </tr>\n",
       "    <tr>\n",
       "      <th>2</th>\n",
       "      <td>0.3280</td>\n",
       "      <td>0.435000</td>\n",
       "      <td>100</td>\n",
       "      <td>0.017300</td>\n",
       "    </tr>\n",
       "    <tr>\n",
       "      <th>3</th>\n",
       "      <td>0.2715</td>\n",
       "      <td>0.428333</td>\n",
       "      <td>302</td>\n",
       "      <td>0.007370</td>\n",
       "    </tr>\n",
       "    <tr>\n",
       "      <th>4</th>\n",
       "      <td>0.2585</td>\n",
       "      <td>0.426667</td>\n",
       "      <td>500</td>\n",
       "      <td>0.000042</td>\n",
       "    </tr>\n",
       "  </tbody>\n",
       "</table>\n",
       "</div>"
      ],
      "text/plain": [
       "   Train Error  Test Error  Number of Features    Lambda\n",
       "0       0.3860    0.395000                   8  0.029800\n",
       "1       0.3570    0.428333                  30  0.024350\n",
       "2       0.3280    0.435000                 100  0.017300\n",
       "3       0.2715    0.428333                 302  0.007370\n",
       "4       0.2585    0.426667                 500  0.000042"
      ]
     },
     "execution_count": 898,
     "metadata": {},
     "output_type": "execute_result"
    }
   ],
   "source": [
    "info_c = {\"Train Error\": model_c.train_errors_final, \n",
    "          \"Test Error\": model_c.test_errors_final,\n",
    "          \"Number of Features\": model_c.num_features, \n",
    "          \"Lambda\": model_c.lambdas}\n",
    "\n",
    "df_c = pd.DataFrame(info_c)\n",
    "df_c"
   ]
  },
  {
   "cell_type": "code",
   "execution_count": null,
   "metadata": {},
   "outputs": [],
   "source": []
  }
 ],
 "metadata": {
  "kernelspec": {
   "display_name": "Python 3",
   "language": "python",
   "name": "python3"
  },
  "language_info": {
   "codemirror_mode": {
    "name": "ipython",
    "version": 3
   },
   "file_extension": ".py",
   "mimetype": "text/x-python",
   "name": "python",
   "nbconvert_exporter": "python",
   "pygments_lexer": "ipython3",
   "version": "3.8.11"
  }
 },
 "nbformat": 4,
 "nbformat_minor": 4
}
