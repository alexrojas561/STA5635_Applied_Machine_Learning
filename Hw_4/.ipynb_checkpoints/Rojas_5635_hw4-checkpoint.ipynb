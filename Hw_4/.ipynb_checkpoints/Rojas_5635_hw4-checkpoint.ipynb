{
 "cells": [
  {
   "cell_type": "code",
   "execution_count": 229,
   "metadata": {},
   "outputs": [],
   "source": [
    "import pandas as pd\n",
    "import numpy as np\n",
    "from matplotlib import pyplot as plt\n",
    "from sklearn.preprocessing import StandardScaler\n",
    "from sklearn.metrics import accuracy_score"
   ]
  },
  {
   "cell_type": "code",
   "execution_count": 342,
   "metadata": {},
   "outputs": [],
   "source": [
    "class TISP:\n",
    "    def __init__(self, features, lambda_ = 1, iterations = 100, learning_rate = 0):\n",
    "        \n",
    "        # Initialize parameters \n",
    "        self.features = features\n",
    "        self.iterations = iterations\n",
    "        self.learning_rate = learning_rate\n",
    "        self.lambda_ = lambda_\n",
    "        self.likelihoods = []\n",
    "        \n",
    "        \n",
    "    def sigmoid(self, z):\n",
    "        \n",
    "        # Set up sigmoid \n",
    "        sig_z = (1/(1+np.exp(-z)))\n",
    "        \n",
    "        assert (sig_z.shape == z.shape)\n",
    "        return sig_z\n",
    "        \n",
    "        \n",
    "    def log_likelihood(self, Xw, y):\n",
    "        ''' \n",
    "        Where: wX is the dot product of the regressor matrix + parameters\n",
    "               y is the data transformed to -> {0, 1}\n",
    "               y_ are the true labels of X in space -> {-1, +1}\n",
    "               \n",
    "               \n",
    "        Loss function uses [-1, 1] labels\n",
    "        '''\n",
    "        \n",
    "        likelihood = (1/Xw.shape[0])*sum(np.log(1 + np.exp(-y*Xw))) #+ \\\n",
    "                      # self.lambda_*sum(#P(x))        \n",
    "        return likelihood\n",
    "        \n",
    "\n",
    "    def fit(self, X, y):\n",
    "        '''\n",
    "        Where X is the regressor matrix\n",
    "              y are the labels {-1, +1}\n",
    "              \n",
    "        Algorithm uses [0, 1] labels\n",
    "        '''\n",
    "        num_obs = X.shape[0]\n",
    "        num_features = X.shape[1]\n",
    "        \n",
    "        # Start w/ zero weights\n",
    "        self.weights = np.zeros(num_features)\n",
    "        \n",
    "        # Transform y to be {0, 1}\n",
    "        y_ = np.where(y == -1, 0, y)\n",
    "        \n",
    "        for i in range(self.iterations):\n",
    "            \n",
    "            Xw = np.dot(X, self.weights)\n",
    "            sig_Xw = self.sigmoid(Xw)\n",
    "            \n",
    "            # Try the other way later - just use the loss from logistic regression with penalty\n",
    "            gradient = np.dot(X.T, y_ - sig_Xw)\n",
    "            \n",
    "            \n",
    "            # Calculate weights\n",
    "            self.weights += (1/num_obs)*gradient\n",
    "            self.weights *= (np.absolute(self.weights) > self.lambda_)\n",
    "        \n",
    "\n",
    "            # Calculating log likelihood\n",
    "            likelihood = self.log_likelihood(Xw,y)\n",
    "            \n",
    "            self.likelihoods.append(likelihood)\n",
    "        \n",
    "        \n",
    "        \n",
    "        "
   ]
  },
  {
   "cell_type": "markdown",
   "metadata": {},
   "source": [
    "## Problem 1.a:"
   ]
  },
  {
   "cell_type": "code",
   "execution_count": 343,
   "metadata": {},
   "outputs": [],
   "source": [
    "# Data input\n",
    "X_train_a = pd.read_csv('data/Gisette/gisette_train.data', sep='\\s+', header=None)\n",
    "y_train_a = pd.read_csv('data/Gisette/gisette_train.labels', header=None)\n",
    "\n",
    "X_test_a = pd.read_csv('data/Gisette/gisette_valid.data',  sep='\\s+', header=None)\n",
    "y_test_a = pd.read_csv('data/Gisette/gisette_valid.labels', header=None)\n",
    "\n",
    "# Prepare data for matrix algebra\n",
    "y_train_a = y_train_a.values.ravel()\n",
    "y_test_a = y_test_a.values.ravel()"
   ]
  },
  {
   "cell_type": "code",
   "execution_count": 344,
   "metadata": {},
   "outputs": [
    {
     "data": {
      "text/plain": [
       "StandardScaler()"
      ]
     },
     "execution_count": 344,
     "metadata": {},
     "output_type": "execute_result"
    }
   ],
   "source": [
    "# Normalize the variables of the training set\n",
    "scaler_a = StandardScaler()\n",
    "scaler_a.fit(X_train_a)"
   ]
  },
  {
   "cell_type": "code",
   "execution_count": 345,
   "metadata": {},
   "outputs": [],
   "source": [
    "# Transform both the train and test set\n",
    "X_train_scaled_a = scaler_a.transform(X_train_a)\n",
    "X_test_scaled_a = scaler_a.transform(X_test_a)"
   ]
  },
  {
   "cell_type": "code",
   "execution_count": 346,
   "metadata": {},
   "outputs": [
    {
     "name": "stderr",
     "output_type": "stream",
     "text": [
      "<ipython-input-342-539a112846f8>:15: RuntimeWarning: overflow encountered in exp\n",
      "  sig_z = (1/(1+np.exp(-z)))\n",
      "<ipython-input-342-539a112846f8>:31: RuntimeWarning: overflow encountered in exp\n",
      "  likelihood = (1/Xw.shape[0])*sum(np.log(1 + np.exp(-y*Xw))) #+ \\\n"
     ]
    }
   ],
   "source": [
    "features = [10, 30, 100, 300, 1000]\n",
    "\n",
    "model_a = TISP(features = features)\n",
    "model_a.fit(X_train_a, y_train_a)"
   ]
  },
  {
   "cell_type": "code",
   "execution_count": 359,
   "metadata": {},
   "outputs": [],
   "source": []
  },
  {
   "cell_type": "code",
   "execution_count": null,
   "metadata": {},
   "outputs": [],
   "source": []
  },
  {
   "cell_type": "code",
   "execution_count": null,
   "metadata": {},
   "outputs": [],
   "source": []
  },
  {
   "cell_type": "code",
   "execution_count": null,
   "metadata": {},
   "outputs": [],
   "source": []
  },
  {
   "cell_type": "code",
   "execution_count": null,
   "metadata": {},
   "outputs": [],
   "source": []
  }
 ],
 "metadata": {
  "kernelspec": {
   "display_name": "Python 3",
   "language": "python",
   "name": "python3"
  },
  "language_info": {
   "codemirror_mode": {
    "name": "ipython",
    "version": 3
   },
   "file_extension": ".py",
   "mimetype": "text/x-python",
   "name": "python",
   "nbconvert_exporter": "python",
   "pygments_lexer": "ipython3",
   "version": "3.8.11"
  }
 },
 "nbformat": 4,
 "nbformat_minor": 4
}
