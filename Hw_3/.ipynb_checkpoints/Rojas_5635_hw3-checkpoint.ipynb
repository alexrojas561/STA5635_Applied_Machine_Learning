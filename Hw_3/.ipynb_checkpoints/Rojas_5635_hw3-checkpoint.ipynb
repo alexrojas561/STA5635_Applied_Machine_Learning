{
 "cells": [
  {
   "cell_type": "code",
   "execution_count": 60,
   "metadata": {},
   "outputs": [],
   "source": [
    "import pandas as pd\n",
    "import numpy as np\n",
    "from matplotlib import pyplot as plt\n",
    "from sklearn.preprocessing import StandardScaler\n",
    "from sklearn.metrics import accuracy_score"
   ]
  },
  {
   "cell_type": "code",
   "execution_count": 61,
   "metadata": {},
   "outputs": [],
   "source": [
    "# Create Logistic Regression with Gradient Ascent\n",
    "class LogisticRegression_GA:  \n",
    "    ''' This code was adapted from: \n",
    "    https://vasugupta2000.medium.com/implementation-of-gradient-ascent-using-logistic-regression-7f5343877c21'''\n",
    "    \n",
    "    \n",
    "    def __init__(self, learning_rate= 0.01, ga_iterations=300):\n",
    "        \n",
    "        # Initialize parameters\n",
    "        self.learning_rate = learning_rate\n",
    "        self.ga_iterations = ga_iterations\n",
    "        self.likelihoods = []\n",
    "        \n",
    "        # Define epsilon so the natural logarithm is not undefined\n",
    "        self.epsilon = 1e-7\n",
    "\n",
    "        \n",
    "    def logistic_func(self, z):\n",
    "        \n",
    "        # Apply logistic function to linear parameters\n",
    "        f_z = 1/(1+np.exp(-z))\n",
    "        \n",
    "        # Error implementation\n",
    "        assert (z.shape == f_z.shape)\n",
    "        return f_z\n",
    "    \n",
    "    \n",
    "    def log_likelihood(self, y_true, y_pred):\n",
    "        \n",
    "        # Fix 0/1 values in y_pred so that log is not undefined\n",
    "        y_pred = np.maximum(np.full(y_pred.shape, self.epsilon), np.minimum(np.full(y_pred.shape, 1-self.epsilon), y_pred))\n",
    "        \n",
    "        # Method from code sourced - TEST\n",
    "        likelihood = sum(y_true*np.log(y_pred)+(1-y_true)*np.log(1-y_pred))\n",
    "        \n",
    "        return -likelihood\n",
    "    \n",
    "    \n",
    "    def fit(self, X, y):\n",
    "        \n",
    "        num_examples = X.shape[0]\n",
    "        num_features = X.shape[1]\n",
    "        \n",
    "        # Initialize weights with appropriate shape\n",
    "        self.weights = np.zeros(num_features)\n",
    "                \n",
    "        # Perform gradient ascent\n",
    "        for i in range(self.ga_iterations):\n",
    "            \n",
    "            z = np.dot(X, self.weights)\n",
    "            \n",
    "            y_pred = self.logistic_func(z)\n",
    "    \n",
    "            # Calculate the gradient values\n",
    "            gradient = np.dot(X.T,(y-y_pred))\n",
    "            \n",
    "            # Update the weights\n",
    "            # Caution: It is gradient ASCENT not descent\n",
    "            self.weights = self.weights - 0.001*self.learning_rate*self.weights +    \\\n",
    "            (self.learning_rate/num_examples)*gradient        \n",
    "            \n",
    "            # Calculating log likelihood\n",
    "            likelihood = self.log_likelihood(y,y_pred)\n",
    "\n",
    "            self.likelihoods.append(likelihood)\n",
    "    \n",
    "    \n",
    "    \n",
    "    def predict_proba(self,X):\n",
    "    \n",
    "        if self.weights is None:\n",
    "            raise Exception(\"Fit the model before prediction\")\n",
    "                     \n",
    "        z = np.dot(X,self.weights)\n",
    "        probabilities = self.logistic_func(z)\n",
    "        # probabilities.reshape(probabilities.shape[0],1)\n",
    "        \n",
    "        ### END CODE HERE\n",
    "        \n",
    "        return probabilities\n",
    "    \n",
    "    def predict(self, X, threshold=0.5):\n",
    "        # Thresholding probability to predict binary values\n",
    "        binary_predictions = np.array(list(map(lambda x: 1 if x>threshold else 0, self.predict_proba(X))))\n",
    "        \n",
    "        return binary_predictions"
   ]
  },
  {
   "cell_type": "markdown",
   "metadata": {},
   "source": [
    "## Problem 1.a\n",
    "**General:**\n",
    "- Implement logistic regression learning by gradient ascent\n",
    "- Before, normalize training set to have zero mean and sd 1\n",
    "- Apply transformation to the test set using mean and sd of the training set \n",
    "\n",
    "**Specifications:**\n",
    "- Use Gisette data\n",
    "- Train logistic regressor on training set\n",
    "- Start with $w^{(0)} = 0$\n",
    "- With 300 gradient ascent iterations and $\\lambda=0.001$ in update equation:\n",
    "    - $w^{(t+1)} = w^{(t)} - \\eta\\lambda w^{(t)} - \\frac{\\eta}{N} \\frac{\\partial}{\\partial w}L(w^{(t)})$\n",
    "    - Where $L(w^{(t)})$ is the negative log likelihood\n",
    "    - Observe that there is an extra factor of $\\frac{1}{N}$ in the loss term compared to class\n",
    "    \n",
    "**Requested output:**\n",
    "- Find a good learning rate $\\eta$ such the negative log-likelihood converges in at most 300 ierations and is monotonically decreasing\n",
    "- Plot the negative log-likelihood vs iteration number\n",
    "- Report in a table the misclassification error on the training and test set"
   ]
  },
  {
   "cell_type": "code",
   "execution_count": 63,
   "metadata": {},
   "outputs": [],
   "source": [
    "# Data input\n",
    "X_train_a = pd.read_csv('data/Gisette/gisette_train.data', sep='\\s+', header=None)\n",
    "y_train_a = pd.read_csv('data/Gisette/gisette_train.labels', header=None)\n",
    "\n",
    "X_test_a = pd.read_csv('data/Gisette/gisette_valid.data',  sep='\\s+', header=None)\n",
    "y_test_a = pd.read_csv('data/Gisette/gisette_valid.labels', header=None)"
   ]
  },
  {
   "cell_type": "code",
   "execution_count": 64,
   "metadata": {},
   "outputs": [
    {
     "data": {
      "text/plain": [
       "StandardScaler()"
      ]
     },
     "execution_count": 64,
     "metadata": {},
     "output_type": "execute_result"
    }
   ],
   "source": [
    "# Normalize the variables of the training set\n",
    "scaler_a = StandardScaler()\n",
    "scaler_a.fit(X_train_a)"
   ]
  },
  {
   "cell_type": "code",
   "execution_count": 65,
   "metadata": {},
   "outputs": [],
   "source": [
    "# Transform both the train and test set\n",
    "X_train_scaled_a = scaler_a.transform(X_train_a)\n",
    "X_test_scaled_a = scaler_a.transform(X_test_a)"
   ]
  },
  {
   "cell_type": "code",
   "execution_count": 66,
   "metadata": {},
   "outputs": [],
   "source": [
    "# Prepare data to change -1 into 0s\n",
    "y_train_a = y_train_a.values.ravel()\n",
    "y_test_a = y_test_a.values.ravel()"
   ]
  },
  {
   "cell_type": "code",
   "execution_count": 67,
   "metadata": {},
   "outputs": [],
   "source": [
    "# Change -1 into 0s\n",
    "for i in range(len(y_train_a)):\n",
    "    if y_train_a[i] < 0:\n",
    "        y_train_a[i] = 0\n",
    "        \n",
    "for i in range(len(y_test_a)):\n",
    "    if y_test_a[i] < 0:\n",
    "        y_test_a[i] = 0"
   ]
  },
  {
   "cell_type": "code",
   "execution_count": 68,
   "metadata": {
    "scrolled": true
   },
   "outputs": [],
   "source": [
    "model_a = LogisticRegression_GA(learning_rate=1)\n",
    "model_a.fit(X_train_scaled_a,y_train_a)"
   ]
  },
  {
   "cell_type": "code",
   "execution_count": 69,
   "metadata": {
    "scrolled": true
   },
   "outputs": [
    {
     "data": {
      "image/png": "[encoded data removed]",
      "text/plain": [
       "<Figure size 432x288 with 1 Axes>"
      ]
     },
     "metadata": {
      "needs_background": "light"
     },
     "output_type": "display_data"
    }
   ],
   "source": [
    "plt.plot([i+1 for i in range(len(model_a.likelihoods))], model_a.likelihoods)\n",
    "plt.title(\"Negative Log-Likelihood curve\")\n",
    "plt.xlabel(\"Iteration num\")\n",
    "plt.ylabel(\"Negative Log-likelihood\")\n",
    "plt.show()"
   ]
  },
  {
   "cell_type": "code",
   "execution_count": 70,
   "metadata": {},
   "outputs": [
    {
     "data": {
      "text/plain": [
       "0.0"
      ]
     },
     "execution_count": 70,
     "metadata": {},
     "output_type": "execute_result"
    }
   ],
   "source": [
    "# Training Misclassification\n",
    "preds_train_a = model_a.predict(X_train_scaled_a)\n",
    "1 - accuracy_score(y_train_a, preds_train_a)"
   ]
  },
  {
   "cell_type": "code",
   "execution_count": 71,
   "metadata": {},
   "outputs": [
    {
     "data": {
      "text/plain": [
       "0.02100000000000002"
      ]
     },
     "execution_count": 71,
     "metadata": {},
     "output_type": "execute_result"
    }
   ],
   "source": [
    "# Testing Misclassification\n",
    "preds_test_a = model_a.predict(X_test_scaled_a)\n",
    "1 - accuracy_score(y_test_a, preds_test_a)"
   ]
  },
  {
   "cell_type": "markdown",
   "metadata": {},
   "source": [
    "## Problem 1.b\n",
    "- Repeat problem 1.a on the *hill-valley* dataset"
   ]
  },
  {
   "cell_type": "code",
   "execution_count": 15,
   "metadata": {},
   "outputs": [],
   "source": [
    "# Data input\n",
    "X_train_b = pd.read_csv('data/hill-valley/X.dat', sep='\\s+', header=None)\n",
    "y_train_b = pd.read_csv('data/hill-valley/Y.dat', header=None)\n",
    "\n",
    "X_test_b = pd.read_csv('data/hill-valley/Xtest.dat',  sep='\\s+', header=None)\n",
    "y_test_b = pd.read_csv('data/hill-valley/Ytest.dat', header=None)"
   ]
  },
  {
   "cell_type": "code",
   "execution_count": 16,
   "metadata": {},
   "outputs": [
    {
     "data": {
      "text/plain": [
       "StandardScaler()"
      ]
     },
     "execution_count": 16,
     "metadata": {},
     "output_type": "execute_result"
    }
   ],
   "source": [
    "# Normalize the variables of the training set\n",
    "scaler_b = StandardScaler()\n",
    "scaler_b.fit(X_train_b)"
   ]
  },
  {
   "cell_type": "code",
   "execution_count": 17,
   "metadata": {},
   "outputs": [],
   "source": [
    "# Transform both the train and test set\n",
    "X_train_scaled_b = scaler_b.transform(X_train_b)\n",
    "X_test_scaled_b = scaler_b.transform(X_test_b)"
   ]
  },
  {
   "cell_type": "code",
   "execution_count": 18,
   "metadata": {},
   "outputs": [],
   "source": [
    "# Prepare data to change -1 into 0s\n",
    "y_train_b = y_train_b.values.ravel()\n",
    "y_test_b = y_test_b.values.ravel()"
   ]
  },
  {
   "cell_type": "code",
   "execution_count": 19,
   "metadata": {
    "scrolled": true
   },
   "outputs": [],
   "source": [
    "# Change -1 into 0s\n",
    "for i in range(len(y_train_b)):\n",
    "    if y_train_b[i] == 0:\n",
    "        y_train_b[i] = 1e-12\n",
    "        \n",
    "for i in range(len(y_test_b)):\n",
    "    if y_test_b[i] == 0:\n",
    "        y_test_b[i] = 1e-12"
   ]
  },
  {
   "cell_type": "code",
   "execution_count": 38,
   "metadata": {},
   "outputs": [],
   "source": [
    "model_b = LogisticRegression_GA(learning_rate=0.095, ga_iterations=100000) # 0.15 best so far\n",
    "model_b.fit(X_train_scaled_b,y_train_b)"
   ]
  },
  {
   "cell_type": "code",
   "execution_count": 39,
   "metadata": {
    "scrolled": true
   },
   "outputs": [
    {
     "data": {
      "image/png": "[encoded data removed]",
      "text/plain": [
       "<Figure size 432x288 with 1 Axes>"
      ]
     },
     "metadata": {
      "needs_background": "light"
     },
     "output_type": "display_data"
    }
   ],
   "source": [
    "plt.plot([i+1 for i in range(len(model_b.likelihoods))], model_b.likelihoods)\n",
    "plt.title(\"Negative Log-Likelihood curve\")\n",
    "plt.xlabel(\"Iteration num\")\n",
    "plt.ylabel(\"Negative Log-likelihood\")\n",
    "plt.show()"
   ]
  },
  {
   "cell_type": "code",
   "execution_count": 40,
   "metadata": {},
   "outputs": [
    {
     "data": {
      "text/plain": [
       "0.2887788778877888"
      ]
     },
     "execution_count": 40,
     "metadata": {},
     "output_type": "execute_result"
    }
   ],
   "source": [
    "# Training Misclassification\n",
    "preds_train_b = model_b.predict(X_train_scaled_b)\n",
    "1 - accuracy_score(y_train_b, preds_train_b)"
   ]
  },
  {
   "cell_type": "code",
   "execution_count": 42,
   "metadata": {},
   "outputs": [
    {
     "data": {
      "text/plain": [
       "0.3201320132013201"
      ]
     },
     "execution_count": 42,
     "metadata": {},
     "output_type": "execute_result"
    }
   ],
   "source": [
    "# Testing Misclassification\n",
    "preds_test_b = model_b.predict(X_test_scaled_b)\n",
    "1 - accuracy_score(y_test_b, preds_test_b)"
   ]
  },
  {
   "cell_type": "markdown",
   "metadata": {},
   "source": [
    "## Problem 1.c\n",
    "- Repeat problem 1.a on the *dexter* dataset"
   ]
  },
  {
   "cell_type": "code",
   "execution_count": 27,
   "metadata": {},
   "outputs": [],
   "source": [
    "# Data input\n",
    "X_train_c = pd.read_csv('data/dexter/dexter_train.csv', sep=',', header=None, nrows=300)\n",
    "y_train_c = pd.read_csv('data/dexter/dexter_train.labels', header=None, nrows=300)\n",
    "\n",
    "X_test_c = pd.read_csv('data/dexter/dexter_valid.csv', sep=',', header=None, nrows=300)\n",
    "y_test_c = pd.read_csv('data/dexter/dexter_valid.labels', header=None, nrows=300)"
   ]
  },
  {
   "cell_type": "code",
   "execution_count": 28,
   "metadata": {},
   "outputs": [
    {
     "data": {
      "text/plain": [
       "StandardScaler()"
      ]
     },
     "execution_count": 28,
     "metadata": {},
     "output_type": "execute_result"
    }
   ],
   "source": [
    "# Normalize the variables of the training set\n",
    "scaler_c = StandardScaler()\n",
    "scaler_c.fit(X_train_c)"
   ]
  },
  {
   "cell_type": "code",
   "execution_count": 29,
   "metadata": {},
   "outputs": [],
   "source": [
    "# Transform both the train and test set\n",
    "X_train_scaled_c = scaler_c.transform(X_train_c)\n",
    "X_test_scaled_c = scaler_c.transform(X_test_c)"
   ]
  },
  {
   "cell_type": "code",
   "execution_count": 30,
   "metadata": {},
   "outputs": [],
   "source": [
    "# Prepare data to change -1 into 0s\n",
    "y_train_c = y_train_c.values.ravel()\n",
    "y_test_c = y_test_c.values.ravel()"
   ]
  },
  {
   "cell_type": "code",
   "execution_count": 32,
   "metadata": {},
   "outputs": [],
   "source": [
    "# Change -1 into 0s\n",
    "for i in range(len(y_train_c)):\n",
    "    if y_train_c[i] < 0:\n",
    "        y_train_c[i] = 0\n",
    "        \n",
    "for i in range(len(y_test_c)):\n",
    "    if y_test_c[i] < 0:\n",
    "        y_test_c[i] = 0"
   ]
  },
  {
   "cell_type": "code",
   "execution_count": 56,
   "metadata": {},
   "outputs": [],
   "source": [
    "model_c = LogisticRegression_GA(learning_rate=0.005)\n",
    "model_c.fit(X_train_scaled_c,y_train_c)"
   ]
  },
  {
   "cell_type": "code",
   "execution_count": 57,
   "metadata": {
    "scrolled": true
   },
   "outputs": [
    {
     "data": {
      "image/png": "[encoded data removed]",
      "text/plain": [
       "<Figure size 432x288 with 1 Axes>"
      ]
     },
     "metadata": {
      "needs_background": "light"
     },
     "output_type": "display_data"
    }
   ],
   "source": [
    "plt.plot([i+1 for i in range(len(model_c.likelihoods))], model_c.likelihoods)\n",
    "plt.title(\"Negative Log-Likelihood curve\")\n",
    "plt.xlabel(\"Iteration num\")\n",
    "plt.ylabel(\"Negative Log-likelihood\")\n",
    "plt.show()"
   ]
  },
  {
   "cell_type": "code",
   "execution_count": 58,
   "metadata": {},
   "outputs": [
    {
     "data": {
      "text/plain": [
       "0.0"
      ]
     },
     "execution_count": 58,
     "metadata": {},
     "output_type": "execute_result"
    }
   ],
   "source": [
    "# Training Misclassification\n",
    "preds_train_c = model_c.predict(X_train_scaled_c)\n",
    "1 - accuracy_score(y_train_c, preds_train_c)"
   ]
  },
  {
   "cell_type": "code",
   "execution_count": 59,
   "metadata": {},
   "outputs": [
    {
     "data": {
      "text/plain": [
       "0.13666666666666671"
      ]
     },
     "execution_count": 59,
     "metadata": {},
     "output_type": "execute_result"
    }
   ],
   "source": [
    "# Testing Misclassification\n",
    "preds_test_c = model_c.predict(X_test_scaled_c)\n",
    "1 - accuracy_score(y_test_c, preds_test_c)"
   ]
  }
 ],
 "metadata": {
  "kernelspec": {
   "display_name": "Python 3",
   "language": "python",
   "name": "python3"
  },
  "language_info": {
   "codemirror_mode": {
    "name": "ipython",
    "version": 3
   },
   "file_extension": ".py",
   "mimetype": "text/x-python",
   "name": "python",
   "nbconvert_exporter": "python",
   "pygments_lexer": "ipython3",
   "version": "3.8.11"
  }
 },
 "nbformat": 4,
 "nbformat_minor": 4
}
